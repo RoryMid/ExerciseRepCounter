{
 "cells": [
  {
   "cell_type": "markdown",
   "metadata": {},
   "source": [
    "# Install and Import Dependencies"
   ]
  },
  {
   "cell_type": "code",
   "execution_count": 1,
   "metadata": {},
   "outputs": [
    {
     "name": "stdout",
     "output_type": "stream",
     "text": [
      "Found existing installation: opencv-python-headless 4.5.5.62\n",
      "Uninstalling opencv-python-headless-4.5.5.62:\n",
      "  Successfully uninstalled opencv-python-headless-4.5.5.62\n"
     ]
    }
   ],
   "source": [
    "!pip uninstall opencv-python-headless --yes"
   ]
  },
  {
   "cell_type": "code",
   "execution_count": 2,
   "metadata": {},
   "outputs": [
    {
     "name": "stdout",
     "output_type": "stream",
     "text": [
      "Looking in indexes: https://pypi.org/simple, https://pypi.ngc.nvidia.com\n",
      "Requirement already satisfied: mediapipe in c:\\users\\beard\\anaconda3\\lib\\site-packages (0.8.9.1)\n",
      "Collecting opencv-python-headless==4.5.1.48\n",
      "  Downloading opencv_python_headless-4.5.1.48-cp38-cp38-win_amd64.whl (34.8 MB)\n",
      "Requirement already satisfied: attrs>=19.1.0 in c:\\users\\beard\\anaconda3\\lib\\site-packages (from mediapipe) (20.3.0)\n",
      "Requirement already satisfied: protobuf>=3.11.4 in c:\\users\\beard\\anaconda3\\lib\\site-packages (from mediapipe) (3.15.2)\n",
      "Requirement already satisfied: matplotlib in c:\\users\\beard\\anaconda3\\lib\\site-packages (from mediapipe) (3.3.2)\n",
      "Requirement already satisfied: absl-py in c:\\users\\beard\\anaconda3\\lib\\site-packages (from mediapipe) (0.11.0)\n",
      "Requirement already satisfied: numpy in c:\\users\\beard\\anaconda3\\lib\\site-packages (from mediapipe) (1.19.2)\n",
      "Requirement already satisfied: opencv-contrib-python in c:\\users\\beard\\anaconda3\\lib\\site-packages (from mediapipe) (4.5.5.64)\n",
      "Requirement already satisfied: six>=1.9 in c:\\users\\beard\\anaconda3\\lib\\site-packages (from protobuf>=3.11.4->mediapipe) (1.15.0)\n",
      "Requirement already satisfied: certifi>=2020.06.20 in c:\\users\\beard\\anaconda3\\lib\\site-packages (from matplotlib->mediapipe) (2020.6.20)\n",
      "Requirement already satisfied: pyparsing!=2.0.4,!=2.1.2,!=2.1.6,>=2.0.3 in c:\\users\\beard\\anaconda3\\lib\\site-packages (from matplotlib->mediapipe) (2.4.7)\n",
      "Requirement already satisfied: pillow>=6.2.0 in c:\\users\\beard\\anaconda3\\lib\\site-packages (from matplotlib->mediapipe) (8.0.1)\n",
      "Requirement already satisfied: kiwisolver>=1.0.1 in c:\\users\\beard\\anaconda3\\lib\\site-packages (from matplotlib->mediapipe) (1.3.0)\n",
      "Requirement already satisfied: python-dateutil>=2.1 in c:\\users\\beard\\anaconda3\\lib\\site-packages (from matplotlib->mediapipe) (2.8.1)\n",
      "Requirement already satisfied: cycler>=0.10 in c:\\users\\beard\\anaconda3\\lib\\site-packages (from matplotlib->mediapipe) (0.10.0)\n",
      "Installing collected packages: opencv-python-headless\n",
      "Successfully installed opencv-python-headless-4.5.1.48\n"
     ]
    }
   ],
   "source": [
    "!pip install mediapipe opencv-python-headless==4.5.1.48"
   ]
  },
  {
   "cell_type": "code",
   "execution_count": 3,
   "metadata": {},
   "outputs": [],
   "source": [
    "import cv2\n",
    "import mediapipe as mp\n",
    "import numpy as np\n",
    "mp_drawing = mp.solutions.drawing_utils\n",
    "mp_pose = mp.solutions.pose"
   ]
  },
  {
   "cell_type": "markdown",
   "metadata": {},
   "source": [
    "# Make Detections"
   ]
  },
  {
   "cell_type": "code",
   "execution_count": null,
   "metadata": {},
   "outputs": [],
   "source": []
  },
  {
   "cell_type": "markdown",
   "metadata": {},
   "source": [
    "# Determining Joints"
   ]
  },
  {
   "cell_type": "code",
   "execution_count": null,
   "metadata": {},
   "outputs": [],
   "source": []
  },
  {
   "cell_type": "markdown",
   "metadata": {},
   "source": [
    "# Calculate Angles"
   ]
  },
  {
   "cell_type": "code",
   "execution_count": null,
   "metadata": {},
   "outputs": [],
   "source": []
  },
  {
   "cell_type": "markdown",
   "metadata": {},
   "source": [
    "# Curl Counter"
   ]
  },
  {
   "cell_type": "code",
   "execution_count": null,
   "metadata": {},
   "outputs": [],
   "source": []
  }
 ],
 "metadata": {
  "kernelspec": {
   "display_name": "Python 3",
   "language": "python",
   "name": "python3"
  },
  "language_info": {
   "codemirror_mode": {
    "name": "ipython",
    "version": 3
   },
   "file_extension": ".py",
   "mimetype": "text/x-python",
   "name": "python",
   "nbconvert_exporter": "python",
   "pygments_lexer": "ipython3",
   "version": "3.8.5"
  }
 },
 "nbformat": 4,
 "nbformat_minor": 4
}
